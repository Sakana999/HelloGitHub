{
  "nbformat": 4,
  "nbformat_minor": 0,
  "metadata": {
    "colab": {
      "name": "chainer チュートリアル.ipynb",
      "provenance": [],
      "collapsed_sections": [],
      "authorship_tag": "ABX9TyPXTqwNspMjZPFt9K1zA1Ig",
      "include_colab_link": true
    },
    "kernelspec": {
      "name": "python3",
      "display_name": "Python 3"
    },
    "accelerator": "GPU"
  },
  "cells": [
    {
      "cell_type": "markdown",
      "metadata": {
        "id": "view-in-github",
        "colab_type": "text"
      },
      "source": [
        "<a href=\"https://colab.research.google.com/github/Sakana999/HelloGitHub/blob/master/chainer_%E3%83%81%E3%83%A5%E3%83%BC%E3%83%88%E3%83%AA%E3%82%A2%E3%83%AB.ipynb\" target=\"_parent\"><img src=\"https://colab.research.google.com/assets/colab-badge.svg\" alt=\"Open In Colab\"/></a>"
      ]
    },
    {
      "cell_type": "code",
      "metadata": {
        "id": "rO4XPIB91uBV",
        "colab_type": "code",
        "outputId": "2ddab796-c9af-45fe-8e03-c1b7a335b2a6",
        "colab": {
          "base_uri": "https://localhost:8080/",
          "height": 122
        }
      },
      "source": [
        "from google.colab import drive\n",
        "drive.mount('/content/drive')"
      ],
      "execution_count": 0,
      "outputs": [
        {
          "output_type": "stream",
          "text": [
            "Go to this URL in a browser: https://accounts.google.com/o/oauth2/auth?client_id=947318989803-6bn6qk8qdgf4n4g3pfee6491hc0brc4i.apps.googleusercontent.com&redirect_uri=urn%3aietf%3awg%3aoauth%3a2.0%3aoob&response_type=code&scope=email%20https%3a%2f%2fwww.googleapis.com%2fauth%2fdocs.test%20https%3a%2f%2fwww.googleapis.com%2fauth%2fdrive%20https%3a%2f%2fwww.googleapis.com%2fauth%2fdrive.photos.readonly%20https%3a%2f%2fwww.googleapis.com%2fauth%2fpeopleapi.readonly\n",
            "\n",
            "Enter your authorization code:\n",
            "··········\n",
            "Mounted at /content/drive\n"
          ],
          "name": "stdout"
        }
      ]
    },
    {
      "cell_type": "markdown",
      "metadata": {
        "id": "CLRZpHES5MxR",
        "colab_type": "text"
      },
      "source": [
        ""
      ]
    },
    {
      "cell_type": "code",
      "metadata": {
        "id": "NXRcRoAM5Nc6",
        "colab_type": "code",
        "outputId": "dfe35741-5206-4d24-be09-eaaf7ea4519a",
        "colab": {
          "base_uri": "https://localhost:8080/",
          "height": 34
        }
      },
      "source": [
        "print('Hello world!')"
      ],
      "execution_count": 0,
      "outputs": [
        {
          "output_type": "stream",
          "text": [
            "Hello world!\n"
          ],
          "name": "stdout"
        }
      ]
    },
    {
      "cell_type": "code",
      "metadata": {
        "id": "LLu1f5L0r5LK",
        "colab_type": "code",
        "outputId": "cf472f28-4027-48df-eb52-ddd9d79b7e06",
        "colab": {
          "base_uri": "https://localhost:8080/",
          "height": 34
        }
      },
      "source": [
        "name1 = 'Chainer'\n",
        "name2 = 'チュートリアル'\n",
        "\n",
        "'{} {}へようこそ'.format(name1, name2)"
      ],
      "execution_count": 0,
      "outputs": [
        {
          "output_type": "execute_result",
          "data": {
            "text/plain": [
              "'Chainer チュートリアルへようこそ'"
            ]
          },
          "metadata": {
            "tags": []
          },
          "execution_count": 2
        }
      ]
    },
    {
      "cell_type": "code",
      "metadata": {
        "id": "3zWr0mDluoMa",
        "colab_type": "code",
        "outputId": "b32cfe41-3371-4bea-a72f-b93924786360",
        "colab": {
          "base_uri": "https://localhost:8080/",
          "height": 34
        }
      },
      "source": [
        "0.25.as_integer_ratio()"
      ],
      "execution_count": 0,
      "outputs": [
        {
          "output_type": "execute_result",
          "data": {
            "text/plain": [
              "(1, 4)"
            ]
          },
          "metadata": {
            "tags": []
          },
          "execution_count": 3
        }
      ]
    },
    {
      "cell_type": "code",
      "metadata": {
        "id": "Iu9OOhW4uq7Y",
        "colab_type": "code",
        "outputId": "60cb78a5-da27-4dd6-8461-f1188761686f",
        "colab": {
          "base_uri": "https://localhost:8080/",
          "height": 51
        }
      },
      "source": [
        "# リスト型の変数を定義\n",
        "numbers = [4, 5, 6, 7]\n",
        "\n",
        "# 値の確認\n",
        "print(numbers)\n",
        "\n",
        "len(numbers)"
      ],
      "execution_count": 0,
      "outputs": [
        {
          "output_type": "stream",
          "text": [
            "[4, 5, 6, 7]\n"
          ],
          "name": "stdout"
        },
        {
          "output_type": "execute_result",
          "data": {
            "text/plain": [
              "4"
            ]
          },
          "metadata": {
            "tags": []
          },
          "execution_count": 6
        }
      ]
    },
    {
      "cell_type": "code",
      "metadata": {
        "id": "VoqG0tpevuWz",
        "colab_type": "code",
        "outputId": "cb53fcd4-9a49-4036-8f6b-6f8307c2581e",
        "colab": {
          "base_uri": "https://localhost:8080/",
          "height": 34
        }
      },
      "source": [
        "type(numbers)\n"
      ],
      "execution_count": 0,
      "outputs": [
        {
          "output_type": "execute_result",
          "data": {
            "text/plain": [
              "list"
            ]
          },
          "metadata": {
            "tags": []
          },
          "execution_count": 5
        }
      ]
    },
    {
      "cell_type": "code",
      "metadata": {
        "id": "hPMdar1BwrmW",
        "colab_type": "code",
        "outputId": "ffd6c8c9-e7ed-444f-d2ea-46e12596d147",
        "colab": {
          "base_uri": "https://localhost:8080/",
          "height": 34
        }
      },
      "source": [
        "array = [[1, 1.2, 'Chainer', True], [3.2, 'Tutorial']]\n",
        "print(array)"
      ],
      "execution_count": 0,
      "outputs": [
        {
          "output_type": "stream",
          "text": [
            "[[1, 1.2, 'Chainer', True], [3.2, 'Tutorial']]\n"
          ],
          "name": "stdout"
        }
      ]
    },
    {
      "cell_type": "code",
      "metadata": {
        "id": "37nxk8x0w0SP",
        "colab_type": "code",
        "colab": {}
      },
      "source": [
        "# 末尾に 2.5 を追加\n",
        "array.append(2.5)"
      ],
      "execution_count": 0,
      "outputs": []
    },
    {
      "cell_type": "markdown",
      "metadata": {
        "id": "eIopwPFnxaP7",
        "colab_type": "text"
      },
      "source": [
        "array\n"
      ]
    },
    {
      "cell_type": "code",
      "metadata": {
        "id": "b4A9vE5BxkHY",
        "colab_type": "code",
        "outputId": "d30cb4ed-63c0-443b-d831-c5ff39a02312",
        "colab": {
          "base_uri": "https://localhost:8080/",
          "height": 34
        }
      },
      "source": [
        "# 空のリストを定義\n",
        "array = []\n",
        "\n",
        "# 空のリストに要素を追加\n",
        "array.append('Chainer')\n",
        "array.append('チュートリアル')\n",
        "\n",
        "array"
      ],
      "execution_count": 0,
      "outputs": [
        {
          "output_type": "execute_result",
          "data": {
            "text/plain": [
              "['Chainer', 'チュートリアル']"
            ]
          },
          "metadata": {
            "tags": []
          },
          "execution_count": 10
        }
      ]
    },
    {
      "cell_type": "code",
      "metadata": {
        "id": "kPXk7FHCxs5S",
        "colab_type": "code",
        "outputId": "6e414d8f-28b9-4af3-ea4a-df7dfbc5dda4",
        "colab": {
          "base_uri": "https://localhost:8080/",
          "height": 34
        }
      },
      "source": [
        "# タプルを定義\n",
        "array = (4, 5, 6, 7)\n",
        "array"
      ],
      "execution_count": 0,
      "outputs": [
        {
          "output_type": "execute_result",
          "data": {
            "text/plain": [
              "(4, 5, 6, 7)"
            ]
          },
          "metadata": {
            "tags": []
          },
          "execution_count": 11
        }
      ]
    },
    {
      "cell_type": "code",
      "metadata": {
        "id": "77wlPhJRxusS",
        "colab_type": "code",
        "outputId": "7b924809-8855-408e-bd29-76a804e99516",
        "colab": {
          "base_uri": "https://localhost:8080/",
          "height": 34
        }
      },
      "source": [
        "type(array)"
      ],
      "execution_count": 0,
      "outputs": [
        {
          "output_type": "execute_result",
          "data": {
            "text/plain": [
              "tuple"
            ]
          },
          "metadata": {
            "tags": []
          },
          "execution_count": 12
        }
      ]
    },
    {
      "cell_type": "code",
      "metadata": {
        "id": "ApkdpVxjxy6Y",
        "colab_type": "code",
        "outputId": "19ac770b-554a-4a38-c370-9e439ea9ed7e",
        "colab": {
          "base_uri": "https://localhost:8080/",
          "height": 34
        }
      },
      "source": [
        "# 辞書を定義\n",
        "scores = {'Math': 90, 'Science': 75, 'English': 80 }\n",
        "scores"
      ],
      "execution_count": 0,
      "outputs": [
        {
          "output_type": "execute_result",
          "data": {
            "text/plain": [
              "{'English': 80, 'Math': 90, 'Science': 75}"
            ]
          },
          "metadata": {
            "tags": []
          },
          "execution_count": 13
        }
      ]
    },
    {
      "cell_type": "code",
      "metadata": {
        "id": "BxbmkC1AyEfJ",
        "colab_type": "code",
        "outputId": "7e28b3ee-1d32-460a-a8ba-b04e31e394b3",
        "colab": {
          "base_uri": "https://localhost:8080/",
          "height": 34
        }
      },
      "source": [
        "# key が Math の value にアクセス\n",
        "scores['Math']"
      ],
      "execution_count": 0,
      "outputs": [
        {
          "output_type": "execute_result",
          "data": {
            "text/plain": [
              "90"
            ]
          },
          "metadata": {
            "tags": []
          },
          "execution_count": 14
        }
      ]
    },
    {
      "cell_type": "code",
      "metadata": {
        "id": "BIu2lFXSx7fX",
        "colab_type": "code",
        "outputId": "b9c16ddd-b9ed-4bc5-e34d-dbb7a9ad79fb",
        "colab": {
          "base_uri": "https://localhost:8080/",
          "height": 34
        }
      },
      "source": [
        "scores.keys()"
      ],
      "execution_count": 0,
      "outputs": [
        {
          "output_type": "execute_result",
          "data": {
            "text/plain": [
              "dict_keys(['Math', 'Science', 'English'])"
            ]
          },
          "metadata": {
            "tags": []
          },
          "execution_count": 19
        }
      ]
    },
    {
      "cell_type": "code",
      "metadata": {
        "id": "1R1IyRqRyodR",
        "colab_type": "code",
        "outputId": "669ca38b-e035-4a1a-b4d8-dd783d9d6656",
        "colab": {
          "base_uri": "https://localhost:8080/",
          "height": 34
        }
      },
      "source": [
        "scores.values()"
      ],
      "execution_count": 0,
      "outputs": [
        {
          "output_type": "execute_result",
          "data": {
            "text/plain": [
              "dict_values([90, 75, 80])"
            ]
          },
          "metadata": {
            "tags": []
          },
          "execution_count": 17
        }
      ]
    },
    {
      "cell_type": "code",
      "metadata": {
        "id": "m6OSahYvyvRw",
        "colab_type": "code",
        "outputId": "b3e49b84-dff9-40cf-f03a-0a426abf20b6",
        "colab": {
          "base_uri": "https://localhost:8080/",
          "height": 34
        }
      },
      "source": [
        "scores.items()"
      ],
      "execution_count": 0,
      "outputs": [
        {
          "output_type": "execute_result",
          "data": {
            "text/plain": [
              "dict_items([('Math', 90), ('Science', 75), ('English', 80), ('国語', 85)])"
            ]
          },
          "metadata": {
            "tags": []
          },
          "execution_count": 21
        }
      ]
    },
    {
      "cell_type": "code",
      "metadata": {
        "id": "lcjGq8QPy4IU",
        "colab_type": "code",
        "colab": {}
      },
      "source": [
        "scores['国語'] = 85"
      ],
      "execution_count": 0,
      "outputs": []
    },
    {
      "cell_type": "code",
      "metadata": {
        "id": "YCB5kBkOy60L",
        "colab_type": "code",
        "outputId": "89ed86b8-bead-4ddc-abfc-f302ee479e75",
        "colab": {
          "base_uri": "https://localhost:8080/",
          "height": 102
        }
      },
      "source": [
        "# 5回繰り返し\n",
        "for i in range(5):\n",
        "    print(i)"
      ],
      "execution_count": 0,
      "outputs": [
        {
          "output_type": "stream",
          "text": [
            "0\n",
            "1\n",
            "2\n",
            "3\n",
            "4\n"
          ],
          "name": "stdout"
        }
      ]
    },
    {
      "cell_type": "code",
      "metadata": {
        "id": "kg3q_ZFMzI5x",
        "colab_type": "code",
        "colab": {}
      },
      "source": [
        "names = ['佐藤', '鈴木', '高橋']"
      ],
      "execution_count": 0,
      "outputs": []
    },
    {
      "cell_type": "code",
      "metadata": {
        "id": "Czwh-0Xiy43m",
        "colab_type": "code",
        "outputId": "cf4e6c08-fd9e-4872-8dcb-4111abf6cba2",
        "colab": {
          "base_uri": "https://localhost:8080/",
          "height": 68
        }
      },
      "source": [
        "for i in range(3):\n",
        "    print('{}さん'.format(names[i]))"
      ],
      "execution_count": 0,
      "outputs": [
        {
          "output_type": "stream",
          "text": [
            "佐藤さん\n",
            "鈴木さん\n",
            "高橋さん\n"
          ],
          "name": "stdout"
        }
      ]
    },
    {
      "cell_type": "code",
      "metadata": {
        "id": "VmtPsbaI2T5W",
        "colab_type": "code",
        "outputId": "9ce07beb-c4e6-4016-9a24-27448044c736",
        "colab": {
          "base_uri": "https://localhost:8080/",
          "height": 34
        }
      },
      "source": [
        "len(names)"
      ],
      "execution_count": 0,
      "outputs": [
        {
          "output_type": "execute_result",
          "data": {
            "text/plain": [
              "3"
            ]
          },
          "metadata": {
            "tags": []
          },
          "execution_count": 26
        }
      ]
    },
    {
      "cell_type": "code",
      "metadata": {
        "id": "wEqYE67B2ZLt",
        "colab_type": "code",
        "outputId": "127c38a8-8ba8-4764-f0e7-94ff29a9e678",
        "colab": {
          "base_uri": "https://localhost:8080/",
          "height": 68
        }
      },
      "source": [
        "for i in range(len(names)):\n",
        "    print('{}さん'.format(names[i]))"
      ],
      "execution_count": 0,
      "outputs": [
        {
          "output_type": "stream",
          "text": [
            "佐藤さん\n",
            "鈴木さん\n",
            "高橋さん\n"
          ],
          "name": "stdout"
        }
      ]
    },
    {
      "cell_type": "code",
      "metadata": {
        "id": "46Ux4yvk2bxL",
        "colab_type": "code",
        "outputId": "3cd2bc40-68c4-4e34-ad24-34b33577a7ed",
        "colab": {
          "base_uri": "https://localhost:8080/",
          "height": 68
        }
      },
      "source": [
        "# リストをイテラブルオブジェクトに指定\n",
        "for name in names:\n",
        "    print('{}さん'.format(name))"
      ],
      "execution_count": 0,
      "outputs": [
        {
          "output_type": "stream",
          "text": [
            "佐藤さん\n",
            "鈴木さん\n",
            "高橋さん\n"
          ],
          "name": "stdout"
        }
      ]
    },
    {
      "cell_type": "code",
      "metadata": {
        "id": "8TM4bTAe2mtl",
        "colab_type": "code",
        "outputId": "77db9d7c-c38e-4930-fc60-dba2b6b474b6",
        "colab": {
          "base_uri": "https://localhost:8080/",
          "height": 68
        }
      },
      "source": [
        "for i, name in enumerate(names):\n",
        "    message = '{}番目: {}さん'.format(i, name)\n",
        "    print(message)"
      ],
      "execution_count": 0,
      "outputs": [
        {
          "output_type": "stream",
          "text": [
            "0番目: 佐藤さん\n",
            "1番目: 鈴木さん\n",
            "2番目: 高橋さん\n"
          ],
          "name": "stdout"
        }
      ]
    },
    {
      "cell_type": "code",
      "metadata": {
        "id": "e3aElSwgyv6l",
        "colab_type": "code",
        "outputId": "c322ce09-ed62-44e7-ffb3-bc80371768c9",
        "colab": {
          "base_uri": "https://localhost:8080/",
          "height": 51
        }
      },
      "source": [
        "names = ['Python', 'Chainer']\n",
        "versions = ['3.7', '5.3.0']\n",
        "suffixes = ['!!', '!!', '?']\n",
        "\n",
        "for name, version, suffix in zip(names, versions, suffixes):\n",
        "    print('{} {} {}'.format(name, version, suffix))"
      ],
      "execution_count": 0,
      "outputs": [
        {
          "output_type": "stream",
          "text": [
            "Python 3.7 !!\n",
            "Chainer 5.3.0 !!\n"
          ],
          "name": "stdout"
        }
      ]
    },
    {
      "cell_type": "code",
      "metadata": {
        "id": "GCCMqnqUy2vL",
        "colab_type": "code",
        "outputId": "752bd2db-bf87-4e23-c0c4-b77f757a6967",
        "colab": {
          "base_uri": "https://localhost:8080/",
          "height": 34
        }
      },
      "source": [
        "a = 0\n",
        "\n",
        "if a > 0:\n",
        "    print('0より大きいです')\n",
        "elif a == 0:\n",
        "    print('0です')\n",
        "else:\n",
        "    print('0より小さいです')"
      ],
      "execution_count": 0,
      "outputs": [
        {
          "output_type": "stream",
          "text": [
            "0です\n"
          ],
          "name": "stdout"
        }
      ]
    },
    {
      "cell_type": "code",
      "metadata": {
        "id": "0ebnljtU5krk",
        "colab_type": "code",
        "outputId": "071030e5-cefd-499e-a9f2-790984744b62",
        "colab": {
          "base_uri": "https://localhost:8080/",
          "height": 68
        }
      },
      "source": [
        "count = 0\n",
        "\n",
        "while count < 3:\n",
        "    print(count)\n",
        "    count += 1"
      ],
      "execution_count": 0,
      "outputs": [
        {
          "output_type": "stream",
          "text": [
            "0\n",
            "1\n",
            "2\n"
          ],
          "name": "stdout"
        }
      ]
    },
    {
      "cell_type": "code",
      "metadata": {
        "id": "R62BGfQK5id6",
        "colab_type": "code",
        "outputId": "62484c94-f1b8-42fb-bc6c-bff821e786d4",
        "colab": {
          "base_uri": "https://localhost:8080/",
          "height": 68
        }
      },
      "source": [
        "count = 0\n",
        "\n",
        "while True:\n",
        "    print(count)\n",
        "    count += 1\n",
        "\n",
        "    if count == 3:\n",
        "        break"
      ],
      "execution_count": 0,
      "outputs": [
        {
          "output_type": "stream",
          "text": [
            "0\n",
            "1\n",
            "2\n"
          ],
          "name": "stdout"
        }
      ]
    },
    {
      "cell_type": "code",
      "metadata": {
        "id": "Yumixcbv55NQ",
        "colab_type": "code",
        "outputId": "b12c8362-f5b1-4390-8979-f47a4bd3ffcf",
        "colab": {
          "base_uri": "https://localhost:8080/",
          "height": 68
        }
      },
      "source": [
        "count = 0\n",
        "\n",
        "while not count == 3:\n",
        "    print(count)\n",
        "    count += 1"
      ],
      "execution_count": 0,
      "outputs": [
        {
          "output_type": "stream",
          "text": [
            "0\n",
            "1\n",
            "2\n"
          ],
          "name": "stdout"
        }
      ]
    },
    {
      "cell_type": "code",
      "metadata": {
        "id": "mHHPGvOt6Zzr",
        "colab_type": "code",
        "colab": {}
      },
      "source": [
        "# 関数 square() の定義\n",
        "def square(x):\n",
        "    print(x ** 2)"
      ],
      "execution_count": 0,
      "outputs": []
    },
    {
      "cell_type": "code",
      "metadata": {
        "id": "MspeKFI66Xcx",
        "colab_type": "code",
        "outputId": "b3a52b5a-84a5-49a5-cff9-29264f7a3d4f",
        "colab": {
          "base_uri": "https://localhost:8080/",
          "height": 34
        }
      },
      "source": [
        "square(3)"
      ],
      "execution_count": 0,
      "outputs": [
        {
          "output_type": "stream",
          "text": [
            "9\n"
          ],
          "name": "stdout"
        }
      ]
    },
    {
      "cell_type": "code",
      "metadata": {
        "id": "9MtWRqyQ7kdn",
        "colab_type": "code",
        "colab": {}
      },
      "source": [
        "# 関数の定義\n",
        "def add(a, b, c):\n",
        "    print(a + b + c)"
      ],
      "execution_count": 0,
      "outputs": []
    },
    {
      "cell_type": "code",
      "metadata": {
        "id": "qUq8md_R7rBP",
        "colab_type": "code",
        "outputId": "2d33f6e9-e664-401e-96b5-6eef75c20395",
        "colab": {
          "base_uri": "https://localhost:8080/",
          "height": 34
        }
      },
      "source": [
        "add(3,4,5)"
      ],
      "execution_count": 0,
      "outputs": [
        {
          "output_type": "stream",
          "text": [
            "12\n"
          ],
          "name": "stdout"
        }
      ]
    },
    {
      "cell_type": "code",
      "metadata": {
        "id": "H0_ih-j07tod",
        "colab_type": "code",
        "colab": {}
      },
      "source": [
        "# 引数のない関数の定義\n",
        "def hello():\n",
        "    print('Chainerチュートリアルにようこそ')"
      ],
      "execution_count": 0,
      "outputs": []
    },
    {
      "cell_type": "code",
      "metadata": {
        "id": "NtjiU1vs8-nf",
        "colab_type": "code",
        "outputId": "40d4ed33-ffba-4ee8-e834-538a3ac92dd6",
        "colab": {
          "base_uri": "https://localhost:8080/",
          "height": 34
        }
      },
      "source": [
        "hello()"
      ],
      "execution_count": 0,
      "outputs": [
        {
          "output_type": "stream",
          "text": [
            "Chainerチュートリアルにようこそ\n"
          ],
          "name": "stdout"
        }
      ]
    },
    {
      "cell_type": "code",
      "metadata": {
        "id": "fj26wHDb8_zU",
        "colab_type": "code",
        "colab": {}
      },
      "source": [
        "def hello(message='Chainerチュートリアルにようこそ'):\n",
        "    print(message)"
      ],
      "execution_count": 0,
      "outputs": []
    },
    {
      "cell_type": "code",
      "metadata": {
        "id": "Sgt8hblN9Hgg",
        "colab_type": "code",
        "outputId": "de582368-9b94-4412-da94-e7d12cc60e2e",
        "colab": {
          "base_uri": "https://localhost:8080/",
          "height": 34
        }
      },
      "source": [
        "hello()"
      ],
      "execution_count": 0,
      "outputs": [
        {
          "output_type": "stream",
          "text": [
            "Chainerチュートリアルにようこそ\n"
          ],
          "name": "stdout"
        }
      ]
    },
    {
      "cell_type": "code",
      "metadata": {
        "id": "aO-dg7N79Ie3",
        "colab_type": "code",
        "outputId": "25140f75-5f6e-4199-e895-4518ecd8e484",
        "colab": {
          "base_uri": "https://localhost:8080/",
          "height": 34
        }
      },
      "source": [
        "hello('welcome')"
      ],
      "execution_count": 0,
      "outputs": [
        {
          "output_type": "stream",
          "text": [
            "welcome\n"
          ],
          "name": "stdout"
        }
      ]
    },
    {
      "cell_type": "code",
      "metadata": {
        "id": "zfELskP49Pil",
        "colab_type": "code",
        "colab": {}
      },
      "source": [
        "# 返り値のある関数の定義\n",
        "def add(a, b):\n",
        "    return a + b"
      ],
      "execution_count": 0,
      "outputs": []
    },
    {
      "cell_type": "code",
      "metadata": {
        "id": "zuozWTxK9KmS",
        "colab_type": "code",
        "outputId": "0ea4a9dd-51e7-4108-aa38-fd75ab3c2842",
        "colab": {
          "base_uri": "https://localhost:8080/",
          "height": 34
        }
      },
      "source": [
        "result = add(1,4)\n",
        "\n",
        "result"
      ],
      "execution_count": 0,
      "outputs": [
        {
          "output_type": "execute_result",
          "data": {
            "text/plain": [
              "5"
            ]
          },
          "metadata": {
            "tags": []
          },
          "execution_count": 18
        }
      ]
    },
    {
      "cell_type": "code",
      "metadata": {
        "id": "NAxt7Wmu9gEC",
        "colab_type": "code",
        "outputId": "b27a3b41-a456-4775-ba76-21d0d4d33b6b",
        "colab": {
          "base_uri": "https://localhost:8080/",
          "height": 34
        }
      },
      "source": [
        "a = 1\n",
        "\n",
        "def change():\n",
        "    a=2\n",
        "\n",
        "# 関数の実行\n",
        "change()\n",
        "\n",
        "a"
      ],
      "execution_count": 0,
      "outputs": [
        {
          "output_type": "execute_result",
          "data": {
            "text/plain": [
              "1"
            ]
          },
          "metadata": {
            "tags": []
          },
          "execution_count": 2
        }
      ]
    },
    {
      "cell_type": "code",
      "metadata": {
        "id": "ZM_kI3T99ewn",
        "colab_type": "code",
        "outputId": "aa3d8b75-6327-446f-c562-e308a2a16d5e",
        "colab": {
          "base_uri": "https://localhost:8080/",
          "height": 34
        }
      },
      "source": [
        "a = 1\n",
        "\n",
        "def change():\n",
        "    global a  # a をグローバル変数である宣言\n",
        "    a = 2       # グローバル変数への代入\n",
        "\n",
        "# 関数の実行\n",
        "change()\n",
        "\n",
        "# 結果の確認 <- a の値が上書きされている\n",
        "a"
      ],
      "execution_count": 0,
      "outputs": [
        {
          "output_type": "execute_result",
          "data": {
            "text/plain": [
              "2"
            ]
          },
          "metadata": {
            "tags": []
          },
          "execution_count": 1
        }
      ]
    },
    {
      "cell_type": "code",
      "metadata": {
        "id": "JMK2kSiDGt3Q",
        "colab_type": "code",
        "colab": {}
      },
      "source": [
        "# クラスの定義\n",
        "class House:\n",
        "\n",
        "    # __init__() の定義\n",
        "    def __init__(self, name):\n",
        "        self.name_plate = name\n",
        "\n",
        "    # メソッドの定義\n",
        "    def hello(self):\n",
        "        print('{}の家です。'.format(self.name_plate))"
      ],
      "execution_count": 0,
      "outputs": []
    },
    {
      "cell_type": "code",
      "metadata": {
        "id": "Gss0IpSRMBV3",
        "colab_type": "code",
        "outputId": "6946f864-64b7-4c04-e6bc-df84425a10a5",
        "colab": {
          "base_uri": "https://localhost:8080/",
          "height": 51
        }
      },
      "source": [
        "sato = House('佐藤')\n",
        "suzuki = House('スズキ')\n",
        "\n",
        "sato.hello()   # 実行の際には hello() の引数にある self は無視\n",
        "suzuki.hello() # 実行の際には hello() の引数にある self は無視"
      ],
      "execution_count": 0,
      "outputs": [
        {
          "output_type": "stream",
          "text": [
            "佐藤の家です。\n",
            "スズキの家です。\n"
          ],
          "name": "stdout"
        }
      ]
    },
    {
      "cell_type": "code",
      "metadata": {
        "id": "HR-zs-I9MMRz",
        "colab_type": "code",
        "colab": {}
      },
      "source": [
        "class Link:\n",
        "\n",
        "    def __init__(self):\n",
        "        self.a = 1\n",
        "        self.b = 2"
      ],
      "execution_count": 0,
      "outputs": []
    },
    {
      "cell_type": "code",
      "metadata": {
        "id": "0zGHGAlANOT7",
        "colab_type": "code",
        "outputId": "9c8b1660-e902-40c7-f927-56f1a5e5bb7f",
        "colab": {
          "base_uri": "https://localhost:8080/",
          "height": 34
        }
      },
      "source": [
        "l = Link()\n",
        "\n",
        "l.a"
      ],
      "execution_count": 0,
      "outputs": [
        {
          "output_type": "execute_result",
          "data": {
            "text/plain": [
              "1"
            ]
          },
          "metadata": {
            "tags": []
          },
          "execution_count": 6
        }
      ]
    },
    {
      "cell_type": "code",
      "metadata": {
        "id": "RmAyQ9hZNRPg",
        "colab_type": "code",
        "outputId": "44de1e5d-96cf-4b7f-b039-b577ae571bdd",
        "colab": {
          "base_uri": "https://localhost:8080/",
          "height": 34
        }
      },
      "source": [
        "l.b"
      ],
      "execution_count": 0,
      "outputs": [
        {
          "output_type": "execute_result",
          "data": {
            "text/plain": [
              "2"
            ]
          },
          "metadata": {
            "tags": []
          },
          "execution_count": 7
        }
      ]
    },
    {
      "cell_type": "code",
      "metadata": {
        "id": "kp6Uf84pNRvW",
        "colab_type": "code",
        "colab": {}
      },
      "source": [
        "class Chain(Link):\n",
        "\n",
        "    def sum(self):\n",
        "        return self.a + self.b"
      ],
      "execution_count": 0,
      "outputs": []
    },
    {
      "cell_type": "code",
      "metadata": {
        "id": "W33t53WTNaSj",
        "colab_type": "code",
        "outputId": "95ee2c2b-0eee-4d1d-ec1c-0a12c2221329",
        "colab": {
          "base_uri": "https://localhost:8080/",
          "height": 34
        }
      },
      "source": [
        "c = Chain()\n",
        "c.a"
      ],
      "execution_count": 0,
      "outputs": [
        {
          "output_type": "execute_result",
          "data": {
            "text/plain": [
              "1"
            ]
          },
          "metadata": {
            "tags": []
          },
          "execution_count": 10
        }
      ]
    },
    {
      "cell_type": "code",
      "metadata": {
        "id": "-pttgawoNhSE",
        "colab_type": "code",
        "outputId": "ac4fc2cc-c5e2-4af3-ed96-0d30642f48bc",
        "colab": {
          "base_uri": "https://localhost:8080/",
          "height": 34
        }
      },
      "source": [
        "c.b"
      ],
      "execution_count": 0,
      "outputs": [
        {
          "output_type": "execute_result",
          "data": {
            "text/plain": [
              "2"
            ]
          },
          "metadata": {
            "tags": []
          },
          "execution_count": 11
        }
      ]
    },
    {
      "cell_type": "code",
      "metadata": {
        "id": "lAtdbxsCNgCV",
        "colab_type": "code",
        "outputId": "9db465ca-f20d-4258-b040-d3d3fea16ab2",
        "colab": {
          "base_uri": "https://localhost:8080/",
          "height": 34
        }
      },
      "source": [
        "c.sum()"
      ],
      "execution_count": 0,
      "outputs": [
        {
          "output_type": "execute_result",
          "data": {
            "text/plain": [
              "3"
            ]
          },
          "metadata": {
            "tags": []
          },
          "execution_count": 12
        }
      ]
    },
    {
      "cell_type": "code",
      "metadata": {
        "id": "cT9Qe9buNoB1",
        "colab_type": "code",
        "colab": {}
      },
      "source": [
        "class Chain(Link):\n",
        "\n",
        "    def __init__(self):\n",
        "        self.c = 5  # self.c を新たに追加\n",
        "\n",
        "    def sum(self):\n",
        "        return self.a + self.b + self.c\n",
        "\n",
        "# インスタンス化\n",
        "C = Chain()"
      ],
      "execution_count": 0,
      "outputs": []
    },
    {
      "cell_type": "code",
      "metadata": {
        "id": "tkG-7rw2Ntka",
        "colab_type": "code",
        "outputId": "aef8d0cb-5316-4e45-b6ef-b2af209415c5",
        "colab": {
          "base_uri": "https://localhost:8080/",
          "height": 283
        }
      },
      "source": [
        "# error\n",
        "C.sum()"
      ],
      "execution_count": 0,
      "outputs": [
        {
          "output_type": "error",
          "ename": "AttributeError",
          "evalue": "ignored",
          "traceback": [
            "\u001b[0;31m---------------------------------------------------------------------------\u001b[0m",
            "\u001b[0;31mAttributeError\u001b[0m                            Traceback (most recent call last)",
            "\u001b[0;32m<ipython-input-14-5d0c7cc9b080>\u001b[0m in \u001b[0;36m<module>\u001b[0;34m()\u001b[0m\n\u001b[0;32m----> 1\u001b[0;31m \u001b[0mC\u001b[0m\u001b[0;34m.\u001b[0m\u001b[0msum\u001b[0m\u001b[0;34m(\u001b[0m\u001b[0;34m)\u001b[0m\u001b[0;34m\u001b[0m\u001b[0;34m\u001b[0m\u001b[0m\n\u001b[0m",
            "\u001b[0;32m<ipython-input-13-c14551cf3ae7>\u001b[0m in \u001b[0;36msum\u001b[0;34m(self)\u001b[0m\n\u001b[1;32m      5\u001b[0m \u001b[0;34m\u001b[0m\u001b[0m\n\u001b[1;32m      6\u001b[0m     \u001b[0;32mdef\u001b[0m \u001b[0msum\u001b[0m\u001b[0;34m(\u001b[0m\u001b[0mself\u001b[0m\u001b[0;34m)\u001b[0m\u001b[0;34m:\u001b[0m\u001b[0;34m\u001b[0m\u001b[0;34m\u001b[0m\u001b[0m\n\u001b[0;32m----> 7\u001b[0;31m         \u001b[0;32mreturn\u001b[0m \u001b[0mself\u001b[0m\u001b[0;34m.\u001b[0m\u001b[0ma\u001b[0m \u001b[0;34m+\u001b[0m \u001b[0mself\u001b[0m\u001b[0;34m.\u001b[0m\u001b[0mb\u001b[0m \u001b[0;34m+\u001b[0m \u001b[0mself\u001b[0m\u001b[0;34m.\u001b[0m\u001b[0mc\u001b[0m\u001b[0;34m\u001b[0m\u001b[0;34m\u001b[0m\u001b[0m\n\u001b[0m\u001b[1;32m      8\u001b[0m \u001b[0;34m\u001b[0m\u001b[0m\n\u001b[1;32m      9\u001b[0m \u001b[0;31m# インスタンス化\u001b[0m\u001b[0;34m\u001b[0m\u001b[0;34m\u001b[0m\u001b[0;34m\u001b[0m\u001b[0m\n",
            "\u001b[0;31mAttributeError\u001b[0m: 'Chain' object has no attribute 'a'"
          ]
        }
      ]
    },
    {
      "cell_type": "code",
      "metadata": {
        "id": "sO6z68zVNvnr",
        "colab_type": "code",
        "colab": {}
      },
      "source": [
        "class Chain(Link):\n",
        "\n",
        "    def __init__(self):\n",
        "        # 親クラスの `__init__()` メソッドを呼び出す\n",
        "        super().__init__()\n",
        "\n",
        "        # self.c を新たに追加\n",
        "        self.c = 5\n",
        "\n",
        "    def sum(self):\n",
        "        return self.a + self.b + self.c\n",
        "\n",
        "# インスタンス化\n",
        "c = Chain()"
      ],
      "execution_count": 0,
      "outputs": []
    },
    {
      "cell_type": "code",
      "metadata": {
        "id": "k-yXqgMoN2ky",
        "colab_type": "code",
        "outputId": "33a0287e-a0b8-466c-e7f6-825bc0541a01",
        "colab": {
          "base_uri": "https://localhost:8080/",
          "height": 34
        }
      },
      "source": [
        "c.sum()"
      ],
      "execution_count": 0,
      "outputs": [
        {
          "output_type": "execute_result",
          "data": {
            "text/plain": [
              "8"
            ]
          },
          "metadata": {
            "tags": []
          },
          "execution_count": 17
        }
      ]
    },
    {
      "cell_type": "code",
      "metadata": {
        "id": "t-1rYsggOG6I",
        "colab_type": "code",
        "colab": {}
      },
      "source": [
        "class MyNetwork(Chain):\n",
        "\n",
        "    def mul(self):\n",
        "        return self.a * self.b * self.c"
      ],
      "execution_count": 0,
      "outputs": []
    },
    {
      "cell_type": "code",
      "metadata": {
        "id": "1w88u9-UOVRy",
        "colab_type": "code",
        "outputId": "26a31e62-df62-46b5-a30d-bf83868f6a13",
        "colab": {
          "base_uri": "https://localhost:8080/",
          "height": 34
        }
      },
      "source": [
        "MyNetwork().mul()"
      ],
      "execution_count": 0,
      "outputs": [
        {
          "output_type": "execute_result",
          "data": {
            "text/plain": [
              "10"
            ]
          },
          "metadata": {
            "tags": []
          },
          "execution_count": 20
        }
      ]
    },
    {
      "cell_type": "code",
      "metadata": {
        "id": "_nDvHRHnOQ6n",
        "colab_type": "code",
        "outputId": "115ff36d-1e3a-495f-8758-7f93b088274b",
        "colab": {
          "base_uri": "https://localhost:8080/",
          "height": 34
        }
      },
      "source": [
        "net = MyNetwork()\n",
        "\n",
        "net.mul()"
      ],
      "execution_count": 0,
      "outputs": [
        {
          "output_type": "execute_result",
          "data": {
            "text/plain": [
              "10"
            ]
          },
          "metadata": {
            "tags": []
          },
          "execution_count": 21
        }
      ]
    },
    {
      "cell_type": "code",
      "metadata": {
        "id": "dL6SQrPtOYqC",
        "colab_type": "code",
        "outputId": "25552160-3f78-4a5c-8a2c-cdc17558d0f5",
        "colab": {
          "base_uri": "https://localhost:8080/"
        }
      },
      "source": [
        "# 以下の FUNC という部分を組み込み関数に置き換えてください\n",
        "\n",
        "a = [4, 8, 3, 4, 1]\n",
        "res = FUNC(a)\n",
        "print(res)"
      ],
      "execution_count": 0,
      "outputs": [
        {
          "output_type": "error",
          "ename": "NameError",
          "evalue": "ignored",
          "traceback": [
            "\u001b[0;31m---------------------------------------------------------------------------\u001b[0m",
            "\u001b[0;31mNameError\u001b[0m                                 Traceback (most recent call last)",
            "\u001b[0;32m<ipython-input-1-eaeb8df283a8>\u001b[0m in \u001b[0;36m<module>\u001b[0;34m()\u001b[0m\n\u001b[1;32m      1\u001b[0m \u001b[0;34m\u001b[0m\u001b[0m\n\u001b[1;32m      2\u001b[0m \u001b[0ma\u001b[0m \u001b[0;34m=\u001b[0m \u001b[0;34m[\u001b[0m\u001b[0;36m4\u001b[0m\u001b[0;34m,\u001b[0m \u001b[0;36m8\u001b[0m\u001b[0;34m,\u001b[0m \u001b[0;36m3\u001b[0m\u001b[0;34m,\u001b[0m \u001b[0;36m4\u001b[0m\u001b[0;34m,\u001b[0m \u001b[0;36m1\u001b[0m\u001b[0;34m]\u001b[0m\u001b[0;34m\u001b[0m\u001b[0;34m\u001b[0m\u001b[0m\n\u001b[0;32m----> 3\u001b[0;31m \u001b[0mres\u001b[0m \u001b[0;34m=\u001b[0m \u001b[0mFUNC\u001b[0m\u001b[0;34m(\u001b[0m\u001b[0ma\u001b[0m\u001b[0;34m)\u001b[0m\u001b[0;34m\u001b[0m\u001b[0;34m\u001b[0m\u001b[0m\n\u001b[0m\u001b[1;32m      4\u001b[0m \u001b[0mprint\u001b[0m\u001b[0;34m(\u001b[0m\u001b[0mres\u001b[0m\u001b[0;34m)\u001b[0m\u001b[0;34m\u001b[0m\u001b[0;34m\u001b[0m\u001b[0m\n",
            "\u001b[0;31mNameError\u001b[0m: name 'FUNC' is not defined"
          ]
        }
      ]
    },
    {
      "cell_type": "code",
      "metadata": {
        "id": "pH3JvSHvlYw9",
        "colab_type": "code",
        "outputId": "a9e9264c-67e6-4c69-dcb0-6eb50455f574",
        "colab": {
          "base_uri": "https://localhost:8080/",
          "height": 34
        }
      },
      "source": [
        "len(a)"
      ],
      "execution_count": 0,
      "outputs": [
        {
          "output_type": "execute_result",
          "data": {
            "text/plain": [
              "5"
            ]
          },
          "metadata": {
            "tags": []
          },
          "execution_count": 2
        }
      ]
    },
    {
      "cell_type": "code",
      "metadata": {
        "id": "QebJHhpjlbH3",
        "colab_type": "code",
        "outputId": "89aed6ba-0f96-40b1-afd7-06840e13dcc8",
        "colab": {
          "base_uri": "https://localhost:8080/",
          "height": 34
        }
      },
      "source": [
        "max(a)"
      ],
      "execution_count": 0,
      "outputs": [
        {
          "output_type": "execute_result",
          "data": {
            "text/plain": [
              "8"
            ]
          },
          "metadata": {
            "tags": []
          },
          "execution_count": 3
        }
      ]
    },
    {
      "cell_type": "code",
      "metadata": {
        "id": "t2SER13xlg8G",
        "colab_type": "code",
        "outputId": "b7d4b72a-edba-456a-fb32-4cb86c8c061e",
        "colab": {
          "base_uri": "https://localhost:8080/",
          "height": 34
        }
      },
      "source": [
        "min(a)"
      ],
      "execution_count": 0,
      "outputs": [
        {
          "output_type": "execute_result",
          "data": {
            "text/plain": [
              "1"
            ]
          },
          "metadata": {
            "tags": []
          },
          "execution_count": 4
        }
      ]
    },
    {
      "cell_type": "code",
      "metadata": {
        "id": "bCSy85RXlh7l",
        "colab_type": "code",
        "outputId": "8760ae07-2029-450f-9826-462312fb40cd",
        "colab": {
          "base_uri": "https://localhost:8080/",
          "height": 34
        }
      },
      "source": [
        "sum(a)"
      ],
      "execution_count": 0,
      "outputs": [
        {
          "output_type": "execute_result",
          "data": {
            "text/plain": [
              "20"
            ]
          },
          "metadata": {
            "tags": []
          },
          "execution_count": 5
        }
      ]
    },
    {
      "cell_type": "code",
      "metadata": {
        "id": "aOrX0u8glkYN",
        "colab_type": "code",
        "outputId": "f0d1c537-a65a-48e4-88fa-81fc43e8c470",
        "colab": {
          "base_uri": "https://localhost:8080/",
          "height": 34
        }
      },
      "source": [
        "sorted(a)"
      ],
      "execution_count": 0,
      "outputs": [
        {
          "output_type": "execute_result",
          "data": {
            "text/plain": [
              "[1, 3, 4, 4, 8]"
            ]
          },
          "metadata": {
            "tags": []
          },
          "execution_count": 7
        }
      ]
    },
    {
      "cell_type": "code",
      "metadata": {
        "id": "jW1uM_mFlxog",
        "colab_type": "code",
        "outputId": "4fe794db-3bf2-421b-8b41-a6b6f59d5795",
        "colab": {
          "base_uri": "https://localhost:8080/",
          "height": 34
        }
      },
      "source": [
        "1.2 + 3.8\n",
        "10//100\n",
        "1>=0\n",
        "'Hello World' == 'Hello World'\n",
        "not 'Chainer' != 'Tutorial'\n"
      ],
      "execution_count": 0,
      "outputs": [
        {
          "output_type": "execute_result",
          "data": {
            "text/plain": [
              "False"
            ]
          },
          "metadata": {
            "tags": []
          },
          "execution_count": 13
        }
      ]
    },
    {
      "cell_type": "code",
      "metadata": {
        "id": "_1i6hgGhnT53",
        "colab_type": "code",
        "outputId": "2f7664ed-ec1f-4cb5-b3c9-e7efd6f9f9d9",
        "colab": {
          "base_uri": "https://localhost:8080/"
        }
      },
      "source": [
        "all([True, True, False]) \n"
      ],
      "execution_count": 0,
      "outputs": [
        {
          "output_type": "execute_result",
          "data": {
            "text/plain": [
              "False"
            ]
          },
          "metadata": {
            "tags": []
          },
          "execution_count": 14
        }
      ]
    },
    {
      "cell_type": "code",
      "metadata": {
        "id": "QamR56lona-S",
        "colab_type": "code",
        "outputId": "c4089a0a-4ff8-461c-9855-381028fe6fc1",
        "colab": {
          "base_uri": "https://localhost:8080/",
          "height": 34
        }
      },
      "source": [
        "any([True, True, False])\n"
      ],
      "execution_count": 0,
      "outputs": [
        {
          "output_type": "execute_result",
          "data": {
            "text/plain": [
              "True"
            ]
          },
          "metadata": {
            "tags": []
          },
          "execution_count": 15
        }
      ]
    },
    {
      "cell_type": "code",
      "metadata": {
        "id": "UrWBveUhnbJd",
        "colab_type": "code",
        "outputId": "0960a71d-e1aa-4283-ed05-dca793158f9e",
        "colab": {
          "base_uri": "https://localhost:8080/",
          "height": 34
        }
      },
      "source": [
        "abs(-3)"
      ],
      "execution_count": 0,
      "outputs": [
        {
          "output_type": "execute_result",
          "data": {
            "text/plain": [
              "3"
            ]
          },
          "metadata": {
            "tags": []
          },
          "execution_count": 17
        }
      ]
    },
    {
      "cell_type": "code",
      "metadata": {
        "id": "4esbbLj-ngiA",
        "colab_type": "code",
        "colab": {}
      },
      "source": [
        ""
      ],
      "execution_count": 0,
      "outputs": []
    },
    {
      "cell_type": "code",
      "metadata": {
        "id": "h5JUqrftndQO",
        "colab_type": "code",
        "colab": {}
      },
      "source": [
        ""
      ],
      "execution_count": 0,
      "outputs": []
    },
    {
      "cell_type": "code",
      "metadata": {
        "id": "1N7-F3eEmBza",
        "colab_type": "code",
        "colab": {}
      },
      "source": [
        "a =[4,8,3,4,1]"
      ],
      "execution_count": 0,
      "outputs": []
    },
    {
      "cell_type": "code",
      "metadata": {
        "id": "2ZbUiDKRn37F",
        "colab_type": "code",
        "outputId": "5eccf55e-e2a8-4ff4-803e-83aa987cece6",
        "colab": {
          "base_uri": "https://localhost:8080/",
          "height": 34
        }
      },
      "source": [
        "del a[0]\n",
        "print(a)"
      ],
      "execution_count": 0,
      "outputs": [
        {
          "output_type": "stream",
          "text": [
            "[8, 3, 4, 1]\n"
          ],
          "name": "stdout"
        }
      ]
    },
    {
      "cell_type": "code",
      "metadata": {
        "id": "-FCLVHKpn1v1",
        "colab_type": "code",
        "outputId": "52a4314e-1278-40d6-99a6-fd28d822fec5",
        "colab": {
          "base_uri": "https://localhost:8080/",
          "height": 34
        }
      },
      "source": [
        "del a[-1]\n",
        "print(a)"
      ],
      "execution_count": 0,
      "outputs": [
        {
          "output_type": "stream",
          "text": [
            "[8, 3]\n"
          ],
          "name": "stdout"
        }
      ]
    },
    {
      "cell_type": "code",
      "metadata": {
        "id": "ILtB1TB2ozyS",
        "colab_type": "code",
        "outputId": "9657e4ad-5006-4fc7-a67c-e8ba8b569eac",
        "colab": {
          "base_uri": "https://localhost:8080/",
          "height": 34
        }
      },
      "source": [
        "a.append(100)\n",
        "print(a)"
      ],
      "execution_count": 0,
      "outputs": [
        {
          "output_type": "stream",
          "text": [
            "[8, 3, 100]\n"
          ],
          "name": "stdout"
        }
      ]
    },
    {
      "cell_type": "code",
      "metadata": {
        "id": "Al2zF9nso3yu",
        "colab_type": "code",
        "outputId": "bd1c21eb-3d4a-4e4f-e386-ece7ac530254",
        "colab": {
          "base_uri": "https://localhost:8080/",
          "height": 34
        }
      },
      "source": [
        "squares = []\n",
        "for x in range(10):\n",
        "  squares.append(x**2)\n",
        "  \n",
        "print (squares)"
      ],
      "execution_count": 0,
      "outputs": [
        {
          "output_type": "stream",
          "text": [
            "[0, 1, 4, 9, 16, 25, 36, 49, 64, 81]\n"
          ],
          "name": "stdout"
        }
      ]
    },
    {
      "cell_type": "code",
      "metadata": {
        "id": "AQ7Ig-61pF-a",
        "colab_type": "code",
        "outputId": "f7596aae-23fd-45e6-9e44-0513c450b98c",
        "colab": {
          "base_uri": "https://localhost:8080/",
          "height": 34
        }
      },
      "source": [
        "squares = [x**2 for x in range(10)]\n",
        "squares"
      ],
      "execution_count": 0,
      "outputs": [
        {
          "output_type": "execute_result",
          "data": {
            "text/plain": [
              "[0, 1, 4, 9, 16, 25, 36, 49, 64, 81]"
            ]
          },
          "metadata": {
            "tags": []
          },
          "execution_count": 11
        }
      ]
    },
    {
      "cell_type": "code",
      "metadata": {
        "id": "wy1J7-oKpCuM",
        "colab_type": "code",
        "outputId": "0cdc119c-9c96-4953-d458-42e49fcc7828",
        "colab": {
          "base_uri": "https://localhost:8080/",
          "height": 71
        }
      },
      "source": [
        "a = [4, 8, 3, 4, 1]\n",
        "squares = [x ** 2 for x in a]\n",
        "print(squares)  # => [16, 64, 9, 16, 1]"
      ],
      "execution_count": 0,
      "outputs": [
        {
          "output_type": "stream",
          "text": [
            "[16, 64, 9, 16, 1]\n",
            "ERROR! Session/line number was not unique in database. History logging moved to new session 77\n"
          ],
          "name": "stdout"
        }
      ]
    },
    {
      "cell_type": "code",
      "metadata": {
        "id": "xK9YNU6kpA-I",
        "colab_type": "code",
        "outputId": "ee2d3a98-45c4-4228-f6b6-b5c8049975d1",
        "colab": {
          "base_uri": "https://localhost:8080/",
          "height": 34
        }
      },
      "source": [
        "a =[4,8,3,4,1]\n",
        "\n",
        "odd = [0 if x%2==0 else 1 for x in a ]\n",
        "\n",
        "print(odd)"
      ],
      "execution_count": 0,
      "outputs": [
        {
          "output_type": "stream",
          "text": [
            "[0, 0, 1, 0, 1]\n"
          ],
          "name": "stdout"
        }
      ]
    },
    {
      "cell_type": "code",
      "metadata": {
        "id": "Tijmi8fmqbfV",
        "colab_type": "code",
        "outputId": "2ee92fe6-bab2-421b-b863-240ad436a741",
        "colab": {
          "base_uri": "https://localhost:8080/",
          "height": 34
        }
      },
      "source": [
        "a =[4,8,3,4,1]\n",
        "\n",
        "even = [0 if x%2==0 else 1 for x in a ]\n",
        "\n",
        "even.count(1)"
      ],
      "execution_count": 0,
      "outputs": [
        {
          "output_type": "execute_result",
          "data": {
            "text/plain": [
              "2"
            ]
          },
          "metadata": {
            "tags": []
          },
          "execution_count": 24
        }
      ]
    },
    {
      "cell_type": "code",
      "metadata": {
        "id": "3VUeudTntSfp",
        "colab_type": "code",
        "outputId": "de6ccd56-fdf7-4e09-c0b4-7f66913de389",
        "colab": {
          "base_uri": "https://localhost:8080/",
          "height": 34
        }
      },
      "source": [
        "b = [x for x in range(10) if x > 5]\n",
        "print(b)"
      ],
      "execution_count": 0,
      "outputs": [
        {
          "output_type": "stream",
          "text": [
            "[6, 7, 8, 9]\n"
          ],
          "name": "stdout"
        }
      ]
    },
    {
      "cell_type": "code",
      "metadata": {
        "colab_type": "code",
        "outputId": "62d8d81d-db55-4da5-e88c-3db931d71db2",
        "id": "B2UytPvpvDWP",
        "colab": {
          "base_uri": "https://localhost:8080/",
          "height": 71
        }
      },
      "source": [
        "a =[4,8,3,4,1]\n",
        "odd = [x for x in a if x%2==1]\n",
        "\n",
        "print(odd)"
      ],
      "execution_count": 0,
      "outputs": [
        {
          "output_type": "stream",
          "text": [
            "[3, 1]\n",
            "ERROR! Session/line number was not unique in database. History logging moved to new session 94\n"
          ],
          "name": "stdout"
        }
      ]
    },
    {
      "cell_type": "code",
      "metadata": {
        "id": "rW9iZYr1t2uA",
        "colab_type": "code",
        "colab": {}
      },
      "source": [
        "class DataManager:\n",
        "  def __init__(self, x, y, z):\n",
        "    self.x = x\n",
        "    self.y = y\n",
        "    self.z = z\n",
        "\n",
        "  def add_x(self, delta):\n",
        "    self.delta = delta\n",
        "    self.x = self.x + self.delta\n",
        "\n",
        "  def add_y(self, delta):\n",
        "    self.delta = delta\n",
        "    self.y = self.y + self.delta\n",
        "\n",
        "  def add_z(self, delta):\n",
        "    self.delta = delta\n",
        "    self.z = self.z + self.delta\n",
        "\n",
        "  def sum(self):\n",
        "    return self.x + self.y + self.z\n"
      ],
      "execution_count": 0,
      "outputs": []
    },
    {
      "cell_type": "code",
      "metadata": {
        "id": "KiaTz4cWwd8o",
        "colab_type": "code",
        "outputId": "d28e0030-d0e5-4389-fec5-71654c92a955",
        "colab": {
          "base_uri": "https://localhost:8080/",
          "height": 85
        }
      },
      "source": [
        "data_manager = DataManager(2, 3, 5)\n",
        "print(data_manager.sum())  # => 10\n",
        "data_manager.add_x(4)      # => data_manager.x の値が 2 から 6 に更新される\n",
        "print(data_manager.sum())  # => 14\n",
        "data_manager.add_y(0)      # => data_manager.y の値が 3 から 3 に更新される\n",
        "print(data_manager.sum())  # => 14\n",
        "data_manager.add_z(-9)     # => data_manager.z の値が 5 から -4 に更新される\n",
        "print(data_manager.sum())  # => 5"
      ],
      "execution_count": 0,
      "outputs": [
        {
          "output_type": "stream",
          "text": [
            "10\n",
            "14\n",
            "14\n",
            "5\n"
          ],
          "name": "stdout"
        }
      ]
    },
    {
      "cell_type": "code",
      "metadata": {
        "id": "wPEoUJaH3LR_",
        "colab_type": "code",
        "colab": {}
      },
      "source": [
        "def f(a):\n",
        "    a = [6, 7, 8]\n",
        "\n",
        "def g(a):\n",
        "    a.append(1)"
      ],
      "execution_count": 0,
      "outputs": []
    },
    {
      "cell_type": "code",
      "metadata": {
        "id": "p_OCWRVY3PUd",
        "colab_type": "code",
        "outputId": "de41f65a-9e14-430b-9bfb-1fd9a204bb3c",
        "colab": {
          "base_uri": "https://localhost:8080/",
          "height": 51
        }
      },
      "source": [
        "def somefunction():\n",
        "    a0 = [1, 2, 3]\n",
        "    f(a0)\n",
        "    print(a0)\n",
        "\n",
        "    a1 = [1, 2, 3]\n",
        "    g(a1)\n",
        "    print(a1)\n",
        "\n",
        "somefunction()"
      ],
      "execution_count": 0,
      "outputs": [
        {
          "output_type": "stream",
          "text": [
            "[1, 2, 3]\n",
            "[1, 2, 3, 1]\n"
          ],
          "name": "stdout"
        }
      ]
    },
    {
      "cell_type": "code",
      "metadata": {
        "id": "nqcvBBN_3Rzb",
        "colab_type": "code",
        "outputId": "6a35a74c-5d14-4c2c-a80b-3154a54f94ea",
        "colab": {
          "base_uri": "https://localhost:8080/",
          "height": 71
        }
      },
      "source": [
        ""
      ],
      "execution_count": 0,
      "outputs": [
        {
          "output_type": "stream",
          "text": [
            "[1, 2, 3, 4, 5, 6, 7, 8, 9, 10, 11, 12, 13, 14, 15, 16, 17, 18, 19, 20, 21, 22, 23, 24, 25, 26, 27, 28, 29, 30, 31, 32, 33, 34, 35, 36, 37, 38, 39, 40, 41, 42, 43, 44, 45, 46, 47, 48, 49, 50, 51, 52, 53, 54, 55, 56, 57, 58, 59, 60, 61, 62, 63, 64, 65, 66, 67, 68, 69, 70, 71, 72, 73, 74, 75, 76, 77, 78, 79, 80, 81, 82, 83, 84, 85, 86, 87, 88, 89, 90, 91, 92, 93, 94, 95, 96, 97, 98, 99, 100, 101, 102, 103, 104, 105, 106, 107, 108, 109, 110, 111, 112, 113, 114, 115, 116, 117, 118, 119, 120, 121, 122, 123, 124, 125, 126, 127, 128, 129, 130, 131, 132, 133, 134, 135, 136, 137, 138, 139, 140, 141, 142, 143, 144, 145, 146, 147, 148, 149, 150, 151, 152, 153, 154, 155, 156, 157, 158, 159, 160, 161, 162, 163, 164, 165, 166, 167, 168, 169, 170, 171, 172, 173, 174, 175, 176, 177, 178, 179, 180, 181, 182, 183, 184, 185, 186, 187, 188, 189, 190, 191, 192, 193, 194, 195, 196, 197, 198, 199, 200]\n",
            "[1, 3, 5, 7, 9, 11, 13, 15, 17, 19, 21, 23, 25, 27, 29, 31, 33, 35, 37, 39, 41, 43, 45, 47, 49, 51, 53, 55, 57, 59, 61, 63, 65, 67, 69, 71, 73, 75, 77, 79, 81, 83, 85, 87, 89, 91, 93, 95, 97, 99, 101, 103, 105, 107, 109, 111, 113, 115, 117, 119, 121, 123, 125, 127, 129, 131, 133, 135, 137, 139, 141, 143, 145, 147, 149, 151, 153, 155, 157, 159, 161, 163, 165, 167, 169, 171, 173, 175, 177, 179, 181, 183, 185, 187, 189, 191, 193, 195, 197, 199]\n"
          ],
          "name": "stdout"
        }
      ]
    },
    {
      "cell_type": "code",
      "metadata": {
        "id": "8MNl2_Kh7dZX",
        "colab_type": "code",
        "outputId": "02337250-4a53-4464-e0af-f2e44172acad",
        "colab": {
          "base_uri": "https://localhost:8080/",
          "height": 54
        }
      },
      "source": [
        ""
      ],
      "execution_count": 0,
      "outputs": [
        {
          "output_type": "stream",
          "text": [
            "[1, 3, 5, 7, 9, 11, 13, 15, 17, 19, 21, 23, 25, 27, 29, 31, 33, 35, 37, 39, 41, 43, 45, 47, 49, 51, 53, 55, 57, 59, 61, 63, 65, 67, 69, 71, 73, 75, 77, 79, 81, 83, 85, 87, 89, 91, 93, 95, 97, 99, 101, 103, 105, 107, 109, 111, 113, 115, 117, 119, 121, 123, 125, 127, 129, 131, 133, 135, 137, 139, 141, 143, 145, 147, 149, 151, 153, 155, 157, 159, 161, 163, 165, 167, 169, 171, 173, 175, 177, 179, 181, 183, 185, 187, 189, 191, 193, 195, 197, 199]\n"
          ],
          "name": "stdout"
        }
      ]
    },
    {
      "cell_type": "code",
      "metadata": {
        "id": "aiK1E1xV9MjO",
        "colab_type": "code",
        "colab": {}
      },
      "source": [
        ""
      ],
      "execution_count": 0,
      "outputs": []
    }
  ]
}