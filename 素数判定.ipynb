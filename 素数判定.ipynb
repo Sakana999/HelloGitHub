{
  "nbformat": 4,
  "nbformat_minor": 0,
  "metadata": {
    "colab": {
      "name": "素数判定.ipynb",
      "provenance": [],
      "authorship_tag": "ABX9TyO98TrLVbmosgkd9+8HO1U/",
      "include_colab_link": true
    },
    "kernelspec": {
      "name": "python3",
      "display_name": "Python 3"
    }
  },
  "cells": [
    {
      "cell_type": "markdown",
      "metadata": {
        "id": "view-in-github",
        "colab_type": "text"
      },
      "source": [
        "<a href=\"https://colab.research.google.com/github/Sakana999/HelloGitHub/blob/master/%E7%B4%A0%E6%95%B0%E5%88%A4%E5%AE%9A.ipynb\" target=\"_parent\"><img src=\"https://colab.research.google.com/assets/colab-badge.svg\" alt=\"Open In Colab\"/></a>"
      ]
    },
    {
      "cell_type": "code",
      "metadata": {
        "id": "hK7wkOfSAEy_",
        "colab_type": "code",
        "outputId": "6eab1888-a786-4294-8b1a-f585fd1020f6",
        "colab": {
          "base_uri": "https://localhost:8080/",
          "height": 54
        }
      },
      "source": [
        "max = 200\n",
        "p=[2]\n",
        "\n",
        "for numbers in range(2,max):\n",
        "  c=True\n",
        "  for d in p:\n",
        "    if numbers % d == 0:\n",
        "      c=False\n",
        "  if c==True:p.append(numbers)\n",
        "\n",
        "print(p)\n"
      ],
      "execution_count": 11,
      "outputs": [
        {
          "output_type": "stream",
          "text": [
            "[2, 3, 5, 7, 11, 13, 17, 19, 23, 29, 31, 37, 41, 43, 47, 53, 59, 61, 67, 71, 73, 79, 83, 89, 97, 101, 103, 107, 109, 113, 127, 131, 137, 139, 149, 151, 157, 163, 167, 173, 179, 181, 191, 193, 197, 199]\n"
          ],
          "name": "stdout"
        }
      ]
    }
  ]
}