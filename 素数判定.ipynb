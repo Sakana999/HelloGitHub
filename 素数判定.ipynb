{
  "nbformat": 4,
  "nbformat_minor": 0,
  "metadata": {
    "colab": {
      "name": "素数判定.ipynb",
      "provenance": [],
      "authorship_tag": "ABX9TyM1sDdnLhdbXj++AHg4t8KV",
      "include_colab_link": true
    },
    "kernelspec": {
      "name": "python3",
      "display_name": "Python 3"
    }
  },
  "cells": [
    {
      "cell_type": "markdown",
      "metadata": {
        "id": "view-in-github",
        "colab_type": "text"
      },
      "source": [
        "<a href=\"https://colab.research.google.com/github/Sakana999/HelloGitHub/blob/master/%E7%B4%A0%E6%95%B0%E5%88%A4%E5%AE%9A.ipynb\" target=\"_parent\"><img src=\"https://colab.research.google.com/assets/colab-badge.svg\" alt=\"Open In Colab\"/></a>"
      ]
    },
    {
      "cell_type": "code",
      "metadata": {
        "id": "hK7wkOfSAEy_",
        "colab_type": "code",
        "colab": {}
      },
      "source": [
        "max = 20000000\n",
        "p=[2]\n",
        "\n",
        "for numbers in range(2,max):\n",
        "  c=True\n",
        "  for d in p:\n",
        "    if numbers % d == 0:\n",
        "      c=False\n",
        "  if c==True:p.append(numbers)\n",
        "\n",
        "print(p)\n"
      ],
      "execution_count": 0,
      "outputs": []
    }
  ]
}